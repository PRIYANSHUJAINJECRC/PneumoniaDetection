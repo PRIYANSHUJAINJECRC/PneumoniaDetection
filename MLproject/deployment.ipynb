{
 "cells": [
  {
   "cell_type": "code",
   "execution_count": 7,
   "id": "330279f4",
   "metadata": {},
   "outputs": [],
   "source": [
    "code = '''\n",
    "import streamlit as st\n",
    "import numpy as np\n",
    "from tensorflow.keras.models import load_model\n",
    "from tensorflow.keras.preprocessing import image\n",
    "from PIL import Image\n",
    "\n",
    "model = load_model(\"xray_model.h5\")\n",
    "\n",
    "st.title(\"Chest X-Ray Pneumonia Detection\")\n",
    "st.write(\"Upload a Chest X-ray image to predict if it's Normal or Pneumonia.\")\n",
    "\n",
    "uploaded_file = st.file_uploader(\"Choose a Chest X-ray image\", type=[\"jpg\", \"jpeg\", \"png\"])\n",
    "\n",
    "def predict(img):\n",
    "    img = img.resize((150, 150))\n",
    "    img_array = image.img_to_array(img) / 255.0\n",
    "    img_array = np.expand_dims(img_array, axis=0)\n",
    "    prediction = model.predict(img_array)[0][0]\n",
    "    label = \"PNEUMONIA\" if prediction > 0.5 else \"NORMAL\"\n",
    "    confidence = float(prediction) if prediction > 0.5 else 1 - float(prediction)\n",
    "    return label, confidence\n",
    "\n",
    "if uploaded_file is not None:\n",
    "    img = Image.open(uploaded_file)\n",
    "    st.image(img, caption=\"Uploaded Chest X-ray\", use_column_width=True)\n",
    "    label, confidence = predict(img)\n",
    "    st.write(f\"### Prediction: {label}\")\n",
    "    st.write(f\"### Confidence: {confidence * 100:.2f}%\")\n",
    "'''\n",
    "\n",
    "with open(\"app.py\", \"w\") as f:\n",
    "    f.write(code)\n"
   ]
  },
  {
   "cell_type": "code",
   "execution_count": null,
   "id": "1df2d8a3",
   "metadata": {},
   "outputs": [
    {
     "ename": "SyntaxError",
     "evalue": "invalid syntax (507122745.py, line 1)",
     "output_type": "error",
     "traceback": [
      "  \u001b[36mCell\u001b[39m\u001b[36m \u001b[39m\u001b[32mIn[5]\u001b[39m\u001b[32m, line 1\u001b[39m\n\u001b[31m    \u001b[39m\u001b[31mstreamlit run app.py\u001b[39m\n              ^\n\u001b[31mSyntaxError\u001b[39m\u001b[31m:\u001b[39m invalid syntax\n"
     ]
    }
   ],
   "source": []
  }
 ],
 "metadata": {
  "kernelspec": {
   "display_name": "Python 3",
   "language": "python",
   "name": "python3"
  },
  "language_info": {
   "codemirror_mode": {
    "name": "ipython",
    "version": 3
   },
   "file_extension": ".py",
   "mimetype": "text/x-python",
   "name": "python",
   "nbconvert_exporter": "python",
   "pygments_lexer": "ipython3",
   "version": "3.11.1"
  }
 },
 "nbformat": 4,
 "nbformat_minor": 5
}
